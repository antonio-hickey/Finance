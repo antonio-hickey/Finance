{
 "cells": [
  {
   "cell_type": "code",
   "execution_count": 2,
   "metadata": {},
   "outputs": [],
   "source": [
    "#--------------------------------------------------------------------------------------------------------\n",
    "# Importing Python Modules\n",
    "import csv\n",
    "import pandas as pd\n",
    "import pathlib\n",
    "import numpy as np\n",
    "from math import sqrt, pi, log, e\n",
    "from enum import Enum\n",
    "import scipy.stats as stat\n",
    "from scipy.stats import norm\n",
    "from scipy import stats\n",
    "import sympy\n",
    "from sympy.stats import Normal, cdf\n",
    "from sympy import init_printing"
   ]
  },
  {
   "cell_type": "markdown",
   "metadata": {},
   "source": [
    "# The Black Model (Black-76)\n",
    "Variant of the Black-Scholes option pricing model, the black model's use is for prcing options on derivatives like futures, interest rate cap and floors, and swaptions. First presented by Fisher Black in a paper written in 1976. Black-76 can be classified as a log-normal forward model.\n",
    "\n",
    "#### Formula:\n",
    "- Call $= e^{(-rT)}[FN(d_1)-KN(d_2)]$\n",
    "- Put $= e^{(-rT)}[KN(-d_2)-FN(-d_1)]$\n",
    "- Where:\n",
    "    - $d_1 = \\frac{ln(F/K)+(\\sigma^2/2)T}{\\sigma \\sqrt{T}}$\n",
    "    - $d_2 = d_1 - \\sigma \\sqrt{T}$\n",
    "    - $ln =$ Log-normal Distribution\n",
    "    - $N =$ Cumulative Normal Distributuion\n",
    "    - $F =$ Underlying Forward Price\n",
    "    - $K =$ Strike Price\n",
    "    - $T =$ Time Until Expiration\n",
    "    - $\\sigma =$ Volatility\n",
    "    - $r =$ Risk Free Interest Rate\n",
    "   \n",
    "## Example:\n",
    "- Pricing /ES Futures (S&P500 Index) Options:\n",
    "    - Where:\n",
    "        - (Foward Price) $F$ = 3925\n",
    "        - (Strike Price) $K$ = 3950\n",
    "        - (Time to Exp) $T$ = 6 Days\n",
    "        - (Volatility) <font size=\"4.5\">$\\sigma$</font> = 14%\n",
    "        - (Risk Free Rate) $r$ = 0.19% \n",
    "        \n",
    "#### First let's solve for Theortical Price of a Call Option:"
   ]
  },
  {
   "cell_type": "code",
   "execution_count": 3,
   "metadata": {},
   "outputs": [],
   "source": [
    "#------------------------------------\n",
    "# Model\n",
    "def b76(f, k, r, sigma, t, option_type):\n",
    "    d1 = (log(f / k) + (sigma ** 2 / 2) * t) / (sigma * sqrt(t))             # Derivative 1\n",
    "    d2 = d1 - sigma * sqrt(t)                                                # Derivative 2\n",
    "    if option_type == 'call':         \n",
    "        price = e**(-r * t) * (f * norm.cdf(d1) - k * norm.cdf(d2))          # Theoratical Price\n",
    "        delta = (e**(r*t))*(norm.cdf(d1))                                    # Delta \n",
    "        p_density = 1 / sqrt(2 * np.pi) * e**(-d1 ** 2 * 0.5)                # Probabiltiy Density\n",
    "        gamma = p_density / (f * sigma * sqrt(t))                            # Gamma\n",
    "        vega = (f*(sqrt(t))*(p_density))                                     # Vega\n",
    "        theta = -(f*sigma*norm.pdf(d1))/2*sqrt(t)-r*k*e**(-r*t)*norm.cdf(d2) # Theta\n",
    "    elif option_type == 'put':\n",
    "        price = e**(-r * t) * (k * norm.cdf(-d2) - f * norm.cdf(-d1))   \n",
    "        delta = (e**(r*t))*(norm.cdf(d1)-1)\n",
    "        p_density = 1 / sqrt(2 * np.pi) * e**(-d1 ** 2 * 0.5)\n",
    "        gamma = p_density / (f * sigma * sqrt(t))\n",
    "        vega = (f*(sqrt(t))*(p_density))\n",
    "        theta = -(f*sigma*norm.pdf(d1))/2*sqrt(t)-r*k*e**(-r*t)*norm.cdf(d2)\n",
    "    return price,delta,gamma,vega,theta\n",
    "#------------------------------------"
   ]
  },
  {
   "cell_type": "code",
   "execution_count": 8,
   "metadata": {
    "tags": []
   },
   "outputs": [
    {
     "output_type": "stream",
     "name": "stdout",
     "text": "Therotical Call Option Price: $24.723194261590088\n"
    }
   ],
   "source": [
    "#------------------------------------\n",
    "# Inputs\n",
    "F = 3925\n",
    "K = 3950\n",
    "T = 6.58 / 365 # Divided by 365 for yearly format\n",
    "sigma = 0.17 # 17% Volatility so 0.17 sigma\n",
    "r = 0.02 # Risk free interest rate is 2%\n",
    "#------------------------------------\n",
    "output = b76(F,K,r,sigma,T,'call')\n",
    "print(\"Therotical Call Option Price: ${}\".format(output[0]))"
   ]
  },
  {
   "cell_type": "markdown",
   "metadata": {},
   "source": [
    "#### Option Greeks:"
   ]
  },
  {
   "cell_type": "code",
   "execution_count": 7,
   "metadata": {
    "tags": []
   },
   "outputs": [
    {
     "output_type": "stream",
     "name": "stdout",
     "text": "Delta: 39\nGamma: 0.43\nVega: 2.029\nTheta: -0.477\n"
    }
   ],
   "source": [
    "#------------------------------------\n",
    "# Decimal manipulation function for cleaning the output's\n",
    "def mDP(num,d_p):\n",
    "    for _ in range(abs(d_p)):\n",
    "        if d_p>0:\n",
    "            num *= 10;\n",
    "        else:\n",
    "            num /= 10.;\n",
    "    return float(num)\n",
    "#------------------------------------\n",
    "delta = int(mDP(output[1],2)) # The delta is 0.39 aka 39 delta so turn to integer\n",
    "gamma = round(mDP(output[2],2),3) # round gamma and adjust decimals for .xxx\n",
    "vega = round(float(mDP(output[3],-2)),3) # round, float, and adjust decimals for x.xxx\n",
    "theta = round(mDP(output[4],-2),3) # round and adjust decimals for xx.xxx\n",
    "greeks = [\"Delta: {}\".format(delta),\"Gamma: {}\".format(gamma),\"Vega: {}\".format(vega),\"Theta: {}\".format(theta)]\n",
    "for greek in greeks:\n",
    "    print(greek)"
   ]
  }
 ],
 "metadata": {
  "kernelspec": {
   "display_name": "Python 3",
   "language": "python",
   "name": "python3"
  },
  "language_info": {
   "codemirror_mode": {
    "name": "ipython",
    "version": 3
   },
   "file_extension": ".py",
   "mimetype": "text/x-python",
   "name": "python",
   "nbconvert_exporter": "python",
   "pygments_lexer": "ipython3",
   "version": "3.8.2-final"
  }
 },
 "nbformat": 4,
 "nbformat_minor": 4
}