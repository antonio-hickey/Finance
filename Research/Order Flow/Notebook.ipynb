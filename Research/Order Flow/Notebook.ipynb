{
 "cells": [
  {
   "cell_type": "code",
   "execution_count": 3,
   "metadata": {
    "jupyter": {
     "source_hidden": true
    }
   },
   "outputs": [],
   "source": [
    "import pathlib\n",
    "import pandas as pd"
   ]
  },
  {
   "cell_type": "code",
   "execution_count": 6,
   "metadata": {},
   "outputs": [],
   "source": [
    "# Importing Dataset's\n",
    "Qoutes_set = pd.read_csv('Data/ES_Quotes.csv')\n",
    "Trades_set = pd.read_csv('Data/ES_Trades.csv')"
   ]
  },
  {
   "cell_type": "markdown",
   "metadata": {},
   "source": [
    "### Dataset Overview:"
   ]
  },
  {
   "cell_type": "code",
   "execution_count": 8,
   "metadata": {},
   "outputs": [
    {
     "data": {
      "text/html": [
       "<div>\n",
       "<style scoped>\n",
       "    .dataframe tbody tr th:only-of-type {\n",
       "        vertical-align: middle;\n",
       "    }\n",
       "\n",
       "    .dataframe tbody tr th {\n",
       "        vertical-align: top;\n",
       "    }\n",
       "\n",
       "    .dataframe thead th {\n",
       "        text-align: right;\n",
       "    }\n",
       "</style>\n",
       "<table border=\"1\" class=\"dataframe\">\n",
       "  <thead>\n",
       "    <tr style=\"text-align: right;\">\n",
       "      <th></th>\n",
       "      <th>Symbol</th>\n",
       "      <th>Date</th>\n",
       "      <th>Time</th>\n",
       "      <th>Bid_Price</th>\n",
       "      <th>Ask_Price</th>\n",
       "      <th>Bid_Size</th>\n",
       "      <th>Ask_Size</th>\n",
       "    </tr>\n",
       "  </thead>\n",
       "  <tbody>\n",
       "    <tr>\n",
       "      <th>0</th>\n",
       "      <td>ESU13</td>\n",
       "      <td>09/01/2013</td>\n",
       "      <td>17:00:00.095</td>\n",
       "      <td>1640.0</td>\n",
       "      <td>1640.25</td>\n",
       "      <td>10</td>\n",
       "      <td>1452</td>\n",
       "    </tr>\n",
       "    <tr>\n",
       "      <th>1</th>\n",
       "      <td>ESU13</td>\n",
       "      <td>09/01/2013</td>\n",
       "      <td>17:00:00.095</td>\n",
       "      <td>1640.0</td>\n",
       "      <td>1640.25</td>\n",
       "      <td>10</td>\n",
       "      <td>1452</td>\n",
       "    </tr>\n",
       "    <tr>\n",
       "      <th>2</th>\n",
       "      <td>ESU13</td>\n",
       "      <td>09/01/2013</td>\n",
       "      <td>17:00:00.095</td>\n",
       "      <td>1640.0</td>\n",
       "      <td>1640.25</td>\n",
       "      <td>10</td>\n",
       "      <td>16</td>\n",
       "    </tr>\n",
       "    <tr>\n",
       "      <th>3</th>\n",
       "      <td>ESU13</td>\n",
       "      <td>09/01/2013</td>\n",
       "      <td>17:00:00.095</td>\n",
       "      <td>1640.0</td>\n",
       "      <td>1640.25</td>\n",
       "      <td>9</td>\n",
       "      <td>16</td>\n",
       "    </tr>\n",
       "    <tr>\n",
       "      <th>4</th>\n",
       "      <td>ESU13</td>\n",
       "      <td>09/01/2013</td>\n",
       "      <td>17:00:00.095</td>\n",
       "      <td>1640.0</td>\n",
       "      <td>1640.25</td>\n",
       "      <td>7</td>\n",
       "      <td>16</td>\n",
       "    </tr>\n",
       "  </tbody>\n",
       "</table>\n",
       "</div>"
      ],
      "text/plain": [
       "  Symbol        Date          Time  Bid_Price  Ask_Price  Bid_Size  Ask_Size\n",
       "0  ESU13  09/01/2013  17:00:00.095     1640.0    1640.25        10      1452\n",
       "1  ESU13  09/01/2013  17:00:00.095     1640.0    1640.25        10      1452\n",
       "2  ESU13  09/01/2013  17:00:00.095     1640.0    1640.25        10        16\n",
       "3  ESU13  09/01/2013  17:00:00.095     1640.0    1640.25         9        16\n",
       "4  ESU13  09/01/2013  17:00:00.095     1640.0    1640.25         7        16"
      ]
     },
     "execution_count": 8,
     "metadata": {},
     "output_type": "execute_result"
    }
   ],
   "source": [
    "Qoutes_set.head()"
   ]
  },
  {
   "cell_type": "code",
   "execution_count": 9,
   "metadata": {},
   "outputs": [
    {
     "data": {
      "text/html": [
       "<div>\n",
       "<style scoped>\n",
       "    .dataframe tbody tr th:only-of-type {\n",
       "        vertical-align: middle;\n",
       "    }\n",
       "\n",
       "    .dataframe tbody tr th {\n",
       "        vertical-align: top;\n",
       "    }\n",
       "\n",
       "    .dataframe thead th {\n",
       "        text-align: right;\n",
       "    }\n",
       "</style>\n",
       "<table border=\"1\" class=\"dataframe\">\n",
       "  <thead>\n",
       "    <tr style=\"text-align: right;\">\n",
       "      <th></th>\n",
       "      <th>Symbol</th>\n",
       "      <th>Date</th>\n",
       "      <th>Time</th>\n",
       "      <th>Price</th>\n",
       "      <th>Volume</th>\n",
       "    </tr>\n",
       "  </thead>\n",
       "  <tbody>\n",
       "    <tr>\n",
       "      <th>0</th>\n",
       "      <td>ESU13</td>\n",
       "      <td>09/01/2013</td>\n",
       "      <td>17:00:00.083</td>\n",
       "      <td>1640.25</td>\n",
       "      <td>8</td>\n",
       "    </tr>\n",
       "    <tr>\n",
       "      <th>1</th>\n",
       "      <td>ESU13</td>\n",
       "      <td>09/01/2013</td>\n",
       "      <td>17:00:00.083</td>\n",
       "      <td>1640.25</td>\n",
       "      <td>1</td>\n",
       "    </tr>\n",
       "    <tr>\n",
       "      <th>2</th>\n",
       "      <td>ESU13</td>\n",
       "      <td>09/01/2013</td>\n",
       "      <td>17:00:00.083</td>\n",
       "      <td>1640.25</td>\n",
       "      <td>2</td>\n",
       "    </tr>\n",
       "    <tr>\n",
       "      <th>3</th>\n",
       "      <td>ESU13</td>\n",
       "      <td>09/01/2013</td>\n",
       "      <td>17:00:00.083</td>\n",
       "      <td>1640.25</td>\n",
       "      <td>1</td>\n",
       "    </tr>\n",
       "    <tr>\n",
       "      <th>4</th>\n",
       "      <td>ESU13</td>\n",
       "      <td>09/01/2013</td>\n",
       "      <td>17:00:00.083</td>\n",
       "      <td>1640.25</td>\n",
       "      <td>1</td>\n",
       "    </tr>\n",
       "  </tbody>\n",
       "</table>\n",
       "</div>"
      ],
      "text/plain": [
       "  Symbol        Date          Time    Price  Volume\n",
       "0  ESU13  09/01/2013  17:00:00.083  1640.25       8\n",
       "1  ESU13  09/01/2013  17:00:00.083  1640.25       1\n",
       "2  ESU13  09/01/2013  17:00:00.083  1640.25       2\n",
       "3  ESU13  09/01/2013  17:00:00.083  1640.25       1\n",
       "4  ESU13  09/01/2013  17:00:00.083  1640.25       1"
      ]
     },
     "execution_count": 9,
     "metadata": {},
     "output_type": "execute_result"
    }
   ],
   "source": [
    "Trades_set.head()"
   ]
  },
  {
   "cell_type": "code",
   "execution_count": null,
   "metadata": {},
   "outputs": [],
   "source": []
  }
 ],
 "metadata": {
  "kernelspec": {
   "display_name": "Python 3",
   "language": "python",
   "name": "python3"
  },
  "language_info": {
   "codemirror_mode": {
    "name": "ipython",
    "version": 3
   },
   "file_extension": ".py",
   "mimetype": "text/x-python",
   "name": "python",
   "nbconvert_exporter": "python",
   "pygments_lexer": "ipython3",
   "version": "3.7.6"
  }
 },
 "nbformat": 4,
 "nbformat_minor": 4
}
